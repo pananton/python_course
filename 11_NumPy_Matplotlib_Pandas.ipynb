{
 "cells": [
  {
   "cell_type": "markdown",
   "metadata": {},
   "source": [
    "# Библиотеки NumPy, Matpotlib, pandas"
   ]
  },
  {
   "cell_type": "markdown",
   "metadata": {},
   "source": [
    "В этой лекции мы вкратце познакомимся с тремя основными библиотеками для решения научных задач. Они не являются частью стандартной библиотеки, и в общем случае должны устанавливаться вручную. Однако поскольку мы использовали дистрибутив Anaconda для установки Python, нам не потребуется ничего делать дополнительно, так как он включает в себя все нужное."
   ]
  },
  {
   "cell_type": "markdown",
   "metadata": {},
   "source": [
    "## Содержание лекции"
   ]
  },
  {
   "cell_type": "markdown",
   "metadata": {},
   "source": [
    "* [NumPy](#NumPy)\n",
    "  * [Создание массива](#Создание-массива)\n",
    "  * [Получение среза](#Получение-среза)\n",
    "  * [Изменение формы](#Изменение-формы)\n",
    "  * [Операции и универсальные функции](#Операции-и-универсальные-функции)\n",
    "* [Matplotlib](#Matplotlib)\n",
    "  * [График](#График)\n",
    "  * [Диаграмма разброса](#Диаграмма-разброса)\n",
    "  * [Гистограмма](#Гистограмма)\n",
    "* [pandas](#pandas)\n",
    "  * [Класс Series](#Класс-Series)\n",
    "  * [Класс DataFrame](#Класс-DataFrame)\n",
    "  * [Статистика](#Статистика)"
   ]
  },
  {
   "cell_type": "markdown",
   "metadata": {},
   "source": [
    "## NumPy"
   ]
  },
  {
   "cell_type": "markdown",
   "metadata": {},
   "source": [
    "Библиотека [NumPy](https://docs.scipy.org/doc/numpy/reference/) предоставляет типы и функции для вычислений с многомерными **массивами**. Массивом (англ. *array*) в программировании называется контейнер, хранящий последовательно друг за другом множество элементов. Из тех контейнеров, с которыми мы познакомились с вами в одной из предыдущих лекций, он больше всего похож на [список](09_Collections.ipynb#Список). Основное же отличие заключается в том, что массив может хранить только значения фиксированного типа - того, который был указан при его создании. Благодаря этому ограничению можно эффективнее организовать хранение в памяти элементов массива, и добиться хорошей производительности операций, выполняющихся над всеми элементами."
   ]
  },
  {
   "cell_type": "markdown",
   "metadata": {},
   "source": [
    "Элементами многомерного массива являются другие массивы. Классический пример - матрица, представляющая собой массив строк, каждая из которых является массивом чисел."
   ]
  },
  {
   "cell_type": "markdown",
   "metadata": {},
   "source": [
    "Основным типом данных, предоставляемым библиотекой NumPy, является класс `ndarray`, который описывает многомерный массив. Перечислим наиболее важные атрибуты экземпляров этого класса:"
   ]
  },
  {
   "cell_type": "markdown",
   "metadata": {},
   "source": [
    "1. `ndim` - количество измерений или, как их принято называть, осей. Например, обычная матрица имеет две оси (строки и столбцы). Оси идентифицируются своим порядковым номером, причем как и для индексов последовательностей, нумерация начинается с нуля (у матрицы строки - это нулевая ось, а столбцы - первая).\n",
    "2. `shape` - форма массива. Это кортеж, который для каждой оси содержит число элементов в ней. Например, если у нас есть матрица размерности $N \\times M$, то `shape` будет равно `(N, M)`.\n",
    "3. `size` - общее количество элементов в многомерном массиве. По сути, представляет собой произведение всех элементов `shape`.\n",
    "4. `dtype` - объект, содержащий информацию о типе данных элементов массива."
   ]
  },
  {
   "cell_type": "markdown",
   "metadata": {},
   "source": [
    "В дальнейших примерах нам часто будет требоваться выводить информацию о массиве на экран, поэтому мы определим простую функцию для этого:"
   ]
  },
  {
   "cell_type": "code",
   "execution_count": 1,
   "metadata": {},
   "outputs": [],
   "source": [
    "import numpy as np\n",
    "\n",
    "def print_array(a):\n",
    "    print('ndim={}, shape={}, size={}, dtype={}'.format(a.ndim, a.shape, a.size, a.dtype))\n",
    "    print(a)"
   ]
  },
  {
   "cell_type": "markdown",
   "metadata": {},
   "source": [
    "### Создание массива"
   ]
  },
  {
   "cell_type": "markdown",
   "metadata": {},
   "source": [
    "Существует несколько способов создать массив. Один из них - использовать функцию `array`."
   ]
  },
  {
   "cell_type": "code",
   "execution_count": 2,
   "metadata": {},
   "outputs": [
    {
     "name": "stdout",
     "output_type": "stream",
     "text": [
      "ndim=1, shape=(3,), size=3, dtype=int32\n",
      "[1 2 3]\n"
     ]
    }
   ],
   "source": [
    "# создаем одномерный массив\n",
    "a = np.array([1, 2, 3])\n",
    "print_array(a)"
   ]
  },
  {
   "cell_type": "code",
   "execution_count": 3,
   "metadata": {},
   "outputs": [
    {
     "name": "stdout",
     "output_type": "stream",
     "text": [
      "ndim=2, shape=(2, 4), size=8, dtype=float64\n",
      "[[0.1 0.2 0.3 0.4]\n",
      " [0.5 0.6 0.7 0.8]]\n"
     ]
    }
   ],
   "source": [
    "# создаем двумерный массив (матрицу)\n",
    "a = np.array([[0.1, 0.2, 0.3, 0.4],\n",
    "              [0.5, 0.6, 0.7, 0.8]])\n",
    "print_array(a)"
   ]
  },
  {
   "cell_type": "markdown",
   "metadata": {},
   "source": [
    "Если при создании массива не указывается тип его элементов, то функция `array` в качестве него выбирает такой, чтобы можно было хранить любой элемент из перечисленных в ее вызове:"
   ]
  },
  {
   "cell_type": "code",
   "execution_count": 4,
   "metadata": {},
   "outputs": [
    {
     "name": "stdout",
     "output_type": "stream",
     "text": [
      "ndim=1, shape=(3,), size=3, dtype=int32\n",
      "[1 2 3]\n"
     ]
    }
   ],
   "source": [
    "a = np.array([1, 2, 3])\n",
    "print_array(a)"
   ]
  },
  {
   "cell_type": "code",
   "execution_count": 5,
   "metadata": {},
   "outputs": [
    {
     "name": "stdout",
     "output_type": "stream",
     "text": [
      "ndim=1, shape=(3,), size=3, dtype=float64\n",
      "[1.  2.  3.1]\n"
     ]
    }
   ],
   "source": [
    "a = np.array([1, 2, 3.1])\n",
    "print_array(a)"
   ]
  },
  {
   "cell_type": "code",
   "execution_count": 6,
   "metadata": {},
   "outputs": [
    {
     "name": "stdout",
     "output_type": "stream",
     "text": [
      "ndim=1, shape=(3,), size=3, dtype=complex128\n",
      "[1.+0.j 2.+0.j 3.+0.j]\n"
     ]
    }
   ],
   "source": [
    "# явно указываем тип элементов\n",
    "a = np.array([1, 2, 3], dtype=complex)\n",
    "print_array(a)"
   ]
  },
  {
   "cell_type": "markdown",
   "metadata": {},
   "source": [
    "Библиотека NumPy для элементов массива использует собственные типы данных, которые можно использовать так же, как соответствующие встроенные. Особенность типов данных из NumPy в том, что для них четко определено количество бит, которое они занимают в памяти. Можно при создании массива указать и тип данных из библиотеки NumPy:"
   ]
  },
  {
   "cell_type": "code",
   "execution_count": 7,
   "metadata": {},
   "outputs": [
    {
     "name": "stdout",
     "output_type": "stream",
     "text": [
      "ndim=1, shape=(3,), size=3, dtype=int16\n",
      "[1 2 3]\n"
     ]
    }
   ],
   "source": [
    "# используем 16битовые целые числа для хранения элементов\n",
    "a = np.array([1, 2, 3], dtype=np.int16)\n",
    "print_array(a)"
   ]
  },
  {
   "cell_type": "markdown",
   "metadata": {},
   "source": [
    "Важно при этом понимать, какой диапазон значений можно хранить в том или ином типе (например, для int16 это $[-32768, 32767]$), потому что если впоследствии ваша программа присвоит элементу массива значение вне этого диапазона, оно будет сохранено неправильно!"
   ]
  },
  {
   "cell_type": "markdown",
   "metadata": {},
   "source": [
    "Часто бывает так, что при создании массива известная его форма, но не значения элементов. В этом случае можно воспользоваться функциями `zeros`, `ones` или `empty`, которые заполняют созданный массив нулями, единицами или случайными значениями. В качестве первого аргумента все эти функции принимают кортеж, описывающий форму массива:"
   ]
  },
  {
   "cell_type": "code",
   "execution_count": 8,
   "metadata": {},
   "outputs": [
    {
     "name": "stdout",
     "output_type": "stream",
     "text": [
      "ndim=3, shape=(2, 3, 4), size=24, dtype=float64\n",
      "[[[0. 0. 0. 0.]\n",
      "  [0. 0. 0. 0.]\n",
      "  [0. 0. 0. 0.]]\n",
      "\n",
      " [[0. 0. 0. 0.]\n",
      "  [0. 0. 0. 0.]\n",
      "  [0. 0. 0. 0.]]]\n"
     ]
    }
   ],
   "source": [
    "# создаем массив с 3мя осями;\n",
    "# он представляет собой массив из двух массивов, каждый из\n",
    "# которых содержит 3 массива, каждый из которых содержит 4 элемента\n",
    "a = np.zeros((2, 3, 4))\n",
    "print_array(a)"
   ]
  },
  {
   "cell_type": "markdown",
   "metadata": {},
   "source": [
    "Обратите внимание, что по умолчанию для элементов массива используется тип `float64`. С помощью именованного параметра `dtype` функции `zeros` и других можно указать желаемый тип элементов."
   ]
  },
  {
   "cell_type": "markdown",
   "metadata": {},
   "source": [
    "Наконец, библиотека NumPy предоставляет функцию `arange` для генерации числовой последовательности, аналогичную встроенной функции `range`. Отличие заключается в том, что с помощью `arange` можно генерировать и последовательности чисел с плавающей точкой."
   ]
  },
  {
   "cell_type": "code",
   "execution_count": 9,
   "metadata": {},
   "outputs": [
    {
     "name": "stdout",
     "output_type": "stream",
     "text": [
      "ndim=1, shape=(10,), size=10, dtype=int32\n",
      "[0 1 2 3 4 5 6 7 8 9]\n"
     ]
    }
   ],
   "source": [
    "# целые из интервала [0, 10) с шагом 1\n",
    "a = np.arange(10)\n",
    "print_array(a)"
   ]
  },
  {
   "cell_type": "code",
   "execution_count": 10,
   "metadata": {},
   "outputs": [
    {
     "name": "stdout",
     "output_type": "stream",
     "text": [
      "ndim=1, shape=(10,), size=10, dtype=float64\n",
      "[0.  0.1 0.2 0.3 0.4 0.5 0.6 0.7 0.8 0.9]\n"
     ]
    }
   ],
   "source": [
    "# действительные из интервала [0.0, 1.0) c шагом 0.1\n",
    "a = np.arange(0, 1, 0.1)\n",
    "print_array(a)"
   ]
  },
  {
   "cell_type": "markdown",
   "metadata": {},
   "source": [
    "Заметим, что использовать функцию `arange` для получения действительных чисел, стоит осторожно, потому что размер полученного массива может отличаться от ожидаемого (это связано с неточным представлением [чисел с плавающей точкой](04_Data_Types.ipynb#Типы-с-плавающей-точкой)). Более безопасной с этой точки зрения является функция `linspace`, которая возвращает указанное количество равноудаленных друг от друга чисел из интервала:"
   ]
  },
  {
   "cell_type": "code",
   "execution_count": 11,
   "metadata": {},
   "outputs": [
    {
     "name": "stdout",
     "output_type": "stream",
     "text": [
      "ndim=1, shape=(10,), size=10, dtype=float64\n",
      "[0.  0.1 0.2 0.3 0.4 0.5 0.6 0.7 0.8 0.9]\n"
     ]
    }
   ],
   "source": [
    "# 10 равноудаленных друг от друга чисел из интервала [0, 0.9]\n",
    "a = np.linspace(0, 0.9, 10)\n",
    "print_array(a)"
   ]
  },
  {
   "cell_type": "markdown",
   "metadata": {},
   "source": [
    "### Получение среза"
   ]
  },
  {
   "cell_type": "markdown",
   "metadata": {},
   "source": [
    "В случае одномерных массивов, получение срезов выполняется так же, как и для обычных последовательностей (списков, кортежей и т.д.). У многомерных массивов индексироваться может каждая ось. Если при этом отсутствует индекс для некоторой оси, то возвращаются все ее элементы. Срез объекта типа `ndarray` также имеет тип `ndarray`."
   ]
  },
  {
   "cell_type": "code",
   "execution_count": 12,
   "metadata": {},
   "outputs": [
    {
     "name": "stdout",
     "output_type": "stream",
     "text": [
      "5\n"
     ]
    }
   ],
   "source": [
    "a_multi = np.array([[0, 1, 2],\n",
    "                    [3, 4, 5],\n",
    "                    [6, 7, 8],\n",
    "                    [9, 10, 11]])\n",
    "\n",
    "# выводи третий элемент второй строки (помните, что нумерация\n",
    "# индексов начинается с нуля!)\n",
    "print(a_multi[1, 2]) "
   ]
  },
  {
   "cell_type": "code",
   "execution_count": 13,
   "metadata": {},
   "outputs": [
    {
     "name": "stdout",
     "output_type": "stream",
     "text": [
      "<class 'numpy.ndarray'>\n",
      "[[3 4 5]\n",
      " [6 7 8]]\n"
     ]
    }
   ],
   "source": [
    "# получаем срез, состоящий из второй и третьей строки\n",
    "result = a_multi[1:3]\n",
    "print(type(result))\n",
    "print(result)"
   ]
  },
  {
   "cell_type": "code",
   "execution_count": 14,
   "metadata": {},
   "outputs": [
    {
     "name": "stdout",
     "output_type": "stream",
     "text": [
      "[[ 9 11]\n",
      " [ 3  5]]\n"
     ]
    }
   ],
   "source": [
    "# получаем срез, состоящий из первого и третьего элемента\n",
    "# второй и четвертой строки, взятых в обратном порядке\n",
    "print(a_multi[3:0:-2, 0:3:2])"
   ]
  },
  {
   "cell_type": "markdown",
   "metadata": {},
   "source": [
    "Тип `ndarray` является итерируемым, поэтому его можно использовать в цикле `for ... in`. Итерация при этом происходит по первой оси (например, в случае матриц - по строкам):"
   ]
  },
  {
   "cell_type": "code",
   "execution_count": 15,
   "metadata": {},
   "outputs": [
    {
     "name": "stdout",
     "output_type": "stream",
     "text": [
      "[0 1 2]\n",
      "[3 4 5]\n",
      "[6 7 8]\n",
      "[ 9 10 11]\n"
     ]
    }
   ],
   "source": [
    "for row in a_multi:\n",
    "    print(row)"
   ]
  },
  {
   "cell_type": "markdown",
   "metadata": {},
   "source": [
    "Для итерации по элементам нужно использовать атрибут `flat`:"
   ]
  },
  {
   "cell_type": "code",
   "execution_count": 16,
   "metadata": {},
   "outputs": [
    {
     "name": "stdout",
     "output_type": "stream",
     "text": [
      "0\n",
      "1\n",
      "2\n",
      "3\n",
      "4\n",
      "5\n",
      "6\n",
      "7\n",
      "8\n",
      "9\n",
      "10\n",
      "11\n"
     ]
    }
   ],
   "source": [
    "for item in a_multi.flat:\n",
    "    print(item)"
   ]
  },
  {
   "cell_type": "markdown",
   "metadata": {},
   "source": [
    "Обратите внимание, что при итерации по элементам вначале изменяется последняя ось, потом предпоследняя и т.д. Например, для трехмерного массива $N_1 \\times N_2 \\times N_3$ элементы извлекались бы в такой последовательности:"
   ]
  },
  {
   "cell_type": "markdown",
   "metadata": {},
   "source": [
    "<pre>\n",
    "a[0][0][0], ..., a[0][0][N3], a[0][1][0], ..., a[0][N2][N3], a[1][0][0], ..., a[N1][N2][N3]\n",
    "</pre>"
   ]
  },
  {
   "cell_type": "markdown",
   "metadata": {},
   "source": [
    "Поскольку `ndarray` относится к изменяемым типам данных, его элементы можно модифицировать:"
   ]
  },
  {
   "cell_type": "code",
   "execution_count": 17,
   "metadata": {},
   "outputs": [
    {
     "name": "stdout",
     "output_type": "stream",
     "text": [
      "[[100   1   2]\n",
      " [  0   0   0]\n",
      " [ 20  21  22]\n",
      " [  9  10  11]]\n"
     ]
    }
   ],
   "source": [
    "a_multi[0, 0] = 100            # присваиваем первому элементу 100\n",
    "a_multi[1] = 0                 # присваиваем всем элементам второй строки 0\n",
    "a_multi[2] = np.arange(20, 23) # заменяем третью строку на строку [20, 21, 22]\n",
    "\n",
    "print(a_multi)"
   ]
  },
  {
   "cell_type": "markdown",
   "metadata": {},
   "source": [
    "### Изменение формы"
   ]
  },
  {
   "cell_type": "markdown",
   "metadata": {},
   "source": [
    "Класс `ndarray` предоставляет несколько методов и атрибутов, которые изменяют форму массива (количество и размер осей):"
   ]
  },
  {
   "cell_type": "markdown",
   "metadata": {},
   "source": [
    "| <div align=\"left\">Название</div> | Описание |\n",
    "|----------------------------------|----------|\n",
    "| <div align=\"left\"><samp>reshape(shape, ...)</samp></div>                                                                      | Возвращает новый массив с теми же данными, но с формой <samp>shape</samp>                                                    |\n",
    "| <div align=\"left\"><samp>resize(shape, ...)</samp></div>                                                                       | Изменяет форму текущего массива на <samp>shape</samp>                                                                        |\n",
    "| <div align=\"left\"><samp>ravel(...)</samp></div>                                                                               | Возвращает \"плоскую\" версию массива с одним измерением                                                                       |"
   ]
  },
  {
   "cell_type": "markdown",
   "metadata": {},
   "source": [
    "При заполнении нового массива, его первому элементу присваивается первый элемент старого, второму - второй и т.д. Причем порядок элементов соответствует тому, в котором они возвращались бы при итерации по всем элементам (по атрибуту `flat`)."
   ]
  },
  {
   "cell_type": "markdown",
   "metadata": {},
   "source": [
    "Еще класс `ndarray` предоставляет метод `transpose` и атрибут `T`, которые позволяют получить транспонированную версию многомерного массива."
   ]
  },
  {
   "cell_type": "code",
   "execution_count": 18,
   "metadata": {},
   "outputs": [],
   "source": [
    "a1 = np.arange(10)\n",
    "a2 = a1.reshape((2, 5))\n",
    "a3 = a2.T\n",
    "a4 = a3.ravel()"
   ]
  },
  {
   "cell_type": "code",
   "execution_count": 19,
   "metadata": {},
   "outputs": [
    {
     "name": "stdout",
     "output_type": "stream",
     "text": [
      "ndim=1, shape=(10,), size=10, dtype=int32\n",
      "[0 1 2 3 4 5 6 7 8 9]\n"
     ]
    }
   ],
   "source": [
    "print_array(a1)"
   ]
  },
  {
   "cell_type": "code",
   "execution_count": 20,
   "metadata": {},
   "outputs": [
    {
     "name": "stdout",
     "output_type": "stream",
     "text": [
      "ndim=2, shape=(2, 5), size=10, dtype=int32\n",
      "[[0 1 2 3 4]\n",
      " [5 6 7 8 9]]\n"
     ]
    }
   ],
   "source": [
    "print_array(a2)"
   ]
  },
  {
   "cell_type": "code",
   "execution_count": 21,
   "metadata": {},
   "outputs": [
    {
     "name": "stdout",
     "output_type": "stream",
     "text": [
      "ndim=2, shape=(5, 2), size=10, dtype=int32\n",
      "[[0 5]\n",
      " [1 6]\n",
      " [2 7]\n",
      " [3 8]\n",
      " [4 9]]\n"
     ]
    }
   ],
   "source": [
    "print_array(a3)"
   ]
  },
  {
   "cell_type": "code",
   "execution_count": 22,
   "metadata": {},
   "outputs": [
    {
     "name": "stdout",
     "output_type": "stream",
     "text": [
      "ndim=1, shape=(10,), size=10, dtype=int32\n",
      "[0 5 1 6 2 7 3 8 4 9]\n"
     ]
    }
   ],
   "source": [
    "print_array(a4)"
   ]
  },
  {
   "cell_type": "markdown",
   "metadata": {},
   "source": [
    "Для объединения нескольких многомерных массивов в один класс `ndarray` предоставляет следующие функции:"
   ]
  },
  {
   "cell_type": "markdown",
   "metadata": {},
   "source": [
    "| <div align=\"left\">Название</div> | Описание |\n",
    "|----------------------------------|----------|\n",
    "| <div align=\"left\"><samp>hstack(arrays_seq)</samp></div>                                                                       | Возвращает новый массив, каждая строка которого является конкатенацией строк массивов из последовательности <samp>arrays_seq</samp>                                                                                                        |\n",
    "| <div align=\"left\"><samp>vstack(arrays_seq)</samp></div>                                                                       | Возвращает новый массив, каждый столбец которого является конкатенацией столбцов массивов из последовательности <samp>arrays_seq</samp>                                                                                                        |"
   ]
  },
  {
   "cell_type": "code",
   "execution_count": 23,
   "metadata": {},
   "outputs": [],
   "source": [
    "a1 = np.array([[1, 2, 3],\n",
    "               [4, 5, 6],\n",
    "               [7, 8, 9]])\n",
    "a2 = np.array([[11, 12],\n",
    "               [13, 14],\n",
    "               [15, 16]])\n",
    "a3 = np.array([[11, 12, 13],\n",
    "               [14, 15, 16]])"
   ]
  },
  {
   "cell_type": "code",
   "execution_count": 24,
   "metadata": {},
   "outputs": [
    {
     "name": "stdout",
     "output_type": "stream",
     "text": [
      "ndim=2, shape=(3, 5), size=15, dtype=int32\n",
      "[[ 1  2  3 11 12]\n",
      " [ 4  5  6 13 14]\n",
      " [ 7  8  9 15 16]]\n"
     ]
    }
   ],
   "source": [
    "print_array(np.hstack([a1, a2]))"
   ]
  },
  {
   "cell_type": "code",
   "execution_count": 25,
   "metadata": {},
   "outputs": [
    {
     "name": "stdout",
     "output_type": "stream",
     "text": [
      "ndim=2, shape=(5, 3), size=15, dtype=int32\n",
      "[[ 1  2  3]\n",
      " [ 4  5  6]\n",
      " [ 7  8  9]\n",
      " [11 12 13]\n",
      " [14 15 16]]\n"
     ]
    }
   ],
   "source": [
    "print_array(np.vstack((a1, a3)))"
   ]
  },
  {
   "cell_type": "markdown",
   "metadata": {},
   "source": [
    "Для разбиения многомерного массива на несколько меньших, используются функции `hsplit` и `vsplit`. Если им передается числовой аргумент, то он трактуется как количество массивов, на которое нужно разбить исходный, а если последовательность, то ее элементы трактуются как индексы, по которым нужно производить разбиение:"
   ]
  },
  {
   "cell_type": "code",
   "execution_count": 26,
   "metadata": {},
   "outputs": [
    {
     "name": "stdout",
     "output_type": "stream",
     "text": [
      "ndim=2, shape=(2, 9), size=18, dtype=int32\n",
      "[[ 0  1  2  3  4  5  6  7  8]\n",
      " [ 9 10 11 12 13 14 15 16 17]]\n"
     ]
    }
   ],
   "source": [
    "a = np.arange(18)\n",
    "a.resize(2, 9)\n",
    "print_array(a)"
   ]
  },
  {
   "cell_type": "code",
   "execution_count": 27,
   "metadata": {},
   "outputs": [
    {
     "name": "stdout",
     "output_type": "stream",
     "text": [
      "ndim=2, shape=(2, 3), size=6, dtype=int32\n",
      "[[ 0  1  2]\n",
      " [ 9 10 11]]\n",
      "ndim=2, shape=(2, 3), size=6, dtype=int32\n",
      "[[ 3  4  5]\n",
      " [12 13 14]]\n",
      "ndim=2, shape=(2, 3), size=6, dtype=int32\n",
      "[[ 6  7  8]\n",
      " [15 16 17]]\n"
     ]
    }
   ],
   "source": [
    "arrays = np.hsplit(a, 3)\n",
    "\n",
    "for array in arrays:\n",
    "    print_array(array)"
   ]
  },
  {
   "cell_type": "code",
   "execution_count": 28,
   "metadata": {},
   "outputs": [
    {
     "name": "stdout",
     "output_type": "stream",
     "text": [
      "ndim=2, shape=(2, 2), size=4, dtype=int32\n",
      "[[ 0  9]\n",
      " [ 1 10]]\n",
      "ndim=2, shape=(3, 2), size=6, dtype=int32\n",
      "[[ 2 11]\n",
      " [ 3 12]\n",
      " [ 4 13]]\n",
      "ndim=2, shape=(3, 2), size=6, dtype=int32\n",
      "[[ 5 14]\n",
      " [ 6 15]\n",
      " [ 7 16]]\n",
      "ndim=2, shape=(1, 2), size=2, dtype=int32\n",
      "[[ 8 17]]\n"
     ]
    }
   ],
   "source": [
    "arrays = np.vsplit(a.T, [2, 5, 8])\n",
    "\n",
    "for array in arrays:\n",
    "    print_array(array)"
   ]
  },
  {
   "cell_type": "markdown",
   "metadata": {},
   "source": [
    "### Операции и универсальные функции"
   ]
  },
  {
   "cell_type": "markdown",
   "metadata": {},
   "source": [
    "Обычные операции в Python перегружены для массива и при выполнении действуют на все его элементы:"
   ]
  },
  {
   "cell_type": "code",
   "execution_count": 29,
   "metadata": {},
   "outputs": [
    {
     "name": "stdout",
     "output_type": "stream",
     "text": [
      "ndim=2, shape=(3, 4), size=12, dtype=int32\n",
      "[[ 0  1  2  3]\n",
      " [ 4  5  6  7]\n",
      " [ 8  9 10 11]]\n"
     ]
    }
   ],
   "source": [
    "a = np.arange(12).reshape((3, 4))\n",
    "print_array(a)"
   ]
  },
  {
   "cell_type": "code",
   "execution_count": 30,
   "metadata": {},
   "outputs": [
    {
     "name": "stdout",
     "output_type": "stream",
     "text": [
      "[[ 1  2  3  4]\n",
      " [ 5  6  7  8]\n",
      " [ 9 10 11 12]]\n"
     ]
    }
   ],
   "source": [
    "a += 1\n",
    "print(a)"
   ]
  },
  {
   "cell_type": "markdown",
   "metadata": {},
   "source": [
    "Если в качестве операндов используются два массива одинаковой размерности, то операция выполняется для всех пар элементов на соответствующих позициях, например:"
   ]
  },
  {
   "cell_type": "code",
   "execution_count": 31,
   "metadata": {},
   "outputs": [
    {
     "name": "stdout",
     "output_type": "stream",
     "text": [
      "ndim=2, shape=(2, 2), size=4, dtype=int32\n",
      "[[7 6]\n",
      " [5 4]]\n",
      "ndim=2, shape=(2, 2), size=4, dtype=int32\n",
      "[[0 1]\n",
      " [2 3]]\n"
     ]
    }
   ],
   "source": [
    "a1 = np.arange(7, 3, -1).reshape(2, 2)\n",
    "a2 = np.arange(4).reshape(2, 2)\n",
    "\n",
    "print_array(a1)\n",
    "print_array(a2)"
   ]
  },
  {
   "cell_type": "code",
   "execution_count": 32,
   "metadata": {},
   "outputs": [
    {
     "name": "stdout",
     "output_type": "stream",
     "text": [
      "[[ 0  6]\n",
      " [10 12]]\n",
      "[[ 1  6]\n",
      " [25 64]]\n"
     ]
    }
   ],
   "source": [
    "print(a1 * a2)\n",
    "print(a1 ** a2)"
   ]
  },
  {
   "cell_type": "markdown",
   "metadata": {},
   "source": [
    "Если вместо поэлементного умножения вы хотите матричное, то нужно воспользоваться функцией `dot`:"
   ]
  },
  {
   "cell_type": "code",
   "execution_count": 33,
   "metadata": {},
   "outputs": [
    {
     "name": "stdout",
     "output_type": "stream",
     "text": [
      "ndim=2, shape=(2, 3), size=6, dtype=int32\n",
      "[[0 1 2]\n",
      " [3 4 5]]\n",
      "ndim=2, shape=(3, 2), size=6, dtype=int32\n",
      "[[0 1]\n",
      " [2 3]\n",
      " [4 5]]\n",
      "ndim=2, shape=(2, 2), size=4, dtype=int32\n",
      "[[10 13]\n",
      " [28 40]]\n"
     ]
    }
   ],
   "source": [
    "a1 = np.arange(6).reshape(2, 3)\n",
    "a2 = np.arange(6).reshape(3, 2)\n",
    "\n",
    "print_array(a1)\n",
    "print_array(a2)\n",
    "print_array(np.dot(a1, a2))"
   ]
  },
  {
   "cell_type": "markdown",
   "metadata": {},
   "source": [
    "Методы `sum`, `max` и `min`, определенные для встроенных коллекций Python, также определены и для класса `ndarray`. По умолчанию они работают со всеми элементами массива, но можно также указать конкретную ось, вдоль которой производить вычисления."
   ]
  },
  {
   "cell_type": "code",
   "execution_count": 34,
   "metadata": {},
   "outputs": [
    {
     "name": "stdout",
     "output_type": "stream",
     "text": [
      "ndim=2, shape=(3, 2), size=6, dtype=int32\n",
      "[[0 1]\n",
      " [2 3]\n",
      " [4 5]]\n"
     ]
    }
   ],
   "source": [
    "a = np.arange(6).reshape(3, 2)\n",
    "print_array(a)"
   ]
  },
  {
   "cell_type": "code",
   "execution_count": 35,
   "metadata": {},
   "outputs": [
    {
     "name": "stdout",
     "output_type": "stream",
     "text": [
      "max=5, min=0\n",
      "[1 5 9]\n"
     ]
    }
   ],
   "source": [
    "print('max={}, min={}'.format(a.max(), a.min()))\n",
    "\n",
    "# вычисляем по столбцам (axis=1), следовательно в результате\n",
    "# получим сумму элементов для каждой строки\n",
    "print(a.sum(axis=1)) "
   ]
  },
  {
   "cell_type": "markdown",
   "metadata": {},
   "source": [
    "В модуле `numpy.random` содержатся функции для генерации случайных массивов произвольной размерности. Например, функция `random` из этого модуля создает массив указанной формы и заполняет его случайными числами, равномерно распределенными в интервале $[0, 1)$:"
   ]
  },
  {
   "cell_type": "code",
   "execution_count": 36,
   "metadata": {},
   "outputs": [
    {
     "name": "stdout",
     "output_type": "stream",
     "text": [
      "ndim=2, shape=(3, 3), size=9, dtype=float64\n",
      "[[0.77627538 0.82548991 0.27186471]\n",
      " [0.85898985 0.95649778 0.16657402]\n",
      " [0.16242193 0.62604804 0.69467224]]\n"
     ]
    }
   ],
   "source": [
    "a = np.random.random((3, 3))\n",
    "print_array(a)"
   ]
  },
  {
   "cell_type": "markdown",
   "metadata": {},
   "source": [
    "В NumPy реализованы те же математические функции, что встречаются в стандартной библиотеке Python, однако они дополнительно умеют работать с массивами. В терминологии библиотеки NumPy эти функции назваются **универсальными**."
   ]
  },
  {
   "cell_type": "code",
   "execution_count": 37,
   "metadata": {},
   "outputs": [
    {
     "name": "stdout",
     "output_type": "stream",
     "text": [
      "[[1. 2. 3.]\n",
      " [4. 5. 6.]]\n"
     ]
    }
   ],
   "source": [
    "a = np.array([[1, 4, 9],\n",
    "              [16, 25, 36]])\n",
    "print(np.sqrt(a))"
   ]
  },
  {
   "cell_type": "code",
   "execution_count": 38,
   "metadata": {},
   "outputs": [
    {
     "name": "stdout",
     "output_type": "stream",
     "text": [
      "0.8660254037844386\n",
      "[0.         0.5        0.70710678 0.8660254  1.        ]\n"
     ]
    }
   ],
   "source": [
    "a = np.array([0, 30, 45, 60, 90], dtype=float) # градусы\n",
    "a *= np.pi / 180                               # преобразуем в радианы\n",
    "\n",
    "# вычисляем синус для обычного числа и для массива\n",
    "print(np.sin(a[3]))\n",
    "print(np.sin(a))"
   ]
  },
  {
   "cell_type": "code",
   "execution_count": 39,
   "metadata": {},
   "outputs": [
    {
     "name": "stdout",
     "output_type": "stream",
     "text": [
      "[0.72009011 0.50335114 0.09270624 0.58830524 0.96991841 0.52659037\n",
      " 0.0770578  0.28066821 0.67652392 0.83184407]\n",
      "mean: 0.5267055502037943\n",
      "variance: 0.08048031288469937\n"
     ]
    }
   ],
   "source": [
    "a = np.random.random(10)\n",
    "print(a)\n",
    "\n",
    "print('mean:',np.mean(a))     # вычисляем математическое ожидание\n",
    "print('variance:', np.var(a)) # вычисляем дисперсию"
   ]
  },
  {
   "cell_type": "markdown",
   "metadata": {},
   "source": [
    "## Matplotlib"
   ]
  },
  {
   "cell_type": "markdown",
   "metadata": {},
   "source": [
    "Библиотека [Matplotlib](https://matplotlib.org/) используется для создания различных 2D и 3D графиков и диаграмм, среди которых:"
   ]
  },
  {
   "cell_type": "markdown",
   "metadata": {},
   "source": [
    "* обычные графики (англ. *line plot*)\n",
    "* диаграммы разброса/рассеивания (англ. *scatter plot*), характеризующие корреляцию между различными факторами\n",
    "* гистограммы (англ. *histogram*)\n",
    "* столбчатые диаграммы (англ. *bar chart*)\n",
    "* круговые диаграммы (англ. *pie chart*)\n",
    "* и другие"
   ]
  },
  {
   "cell_type": "markdown",
   "metadata": {},
   "source": [
    "Функции и типы Matplotlib умеют работать с массивами NumPy, и более того, практически никогда не используются без них. В библиотеке Matplotlib релиазовано два интерфейса - один процедурный, другой объектно-ориентированный. Мы будем использовать процедурный, который реализован в модуле `matplotlib.pyplot`. Давайте импортируем модули, которые мы будем использовать в примерах в этом разделе."
   ]
  },
  {
   "cell_type": "code",
   "execution_count": 40,
   "metadata": {},
   "outputs": [],
   "source": [
    "import numpy as np\n",
    "import matplotlib.pyplot as plt"
   ]
  },
  {
   "cell_type": "markdown",
   "metadata": {},
   "source": [
    "### График"
   ]
  },
  {
   "cell_type": "markdown",
   "metadata": {},
   "source": [
    "Обычный график создается с помощью функции `plot`. Основными ее параметрами являются две последовательности: в первой содержатся абсциссы точек, а во второй их ординаты. Функция `plot` строит график таким образом, чтобы он проходил через эти точки. Это означает, что чем сложнее форма графика, тем больше точек нужно передать в `plot`. Например, для построения прямой достаточно двух точек, но этого явно мало, чтобы правильно нарисовать параболу."
   ]
  },
  {
   "cell_type": "markdown",
   "metadata": {},
   "source": [
    "Кроме координат точек, функция `plot` имеет множество других параметров для настройки того, как график будет выглядеть. В наших примерах мы познакомим вас с некоторыми из них, а полную информацию можно получить в [справочном руководстве](https://matplotlib.org/api/_as_gen/matplotlib.pyplot.plot.html#matplotlib.pyplot.plot)."
   ]
  },
  {
   "cell_type": "markdown",
   "metadata": {},
   "source": [
    "Давайте начнем с простого примера и создадим график прямой линии $2x + 1$:"
   ]
  },
  {
   "cell_type": "code",
   "execution_count": 41,
   "metadata": {},
   "outputs": [
    {
     "data": {
      "text/plain": [
       "[<matplotlib.lines.Line2D at 0x8970f98>]"
      ]
     },
     "execution_count": 41,
     "metadata": {},
     "output_type": "execute_result"
    },
    {
     "data": {
      "image/png": "[encoded data removed]",
      "text/plain": [
       "<matplotlib.figure.Figure at 0x8a8ad30>"
      ]
     },
     "metadata": {},
     "output_type": "display_data"
    }
   ],
   "source": [
    "# двух точек достаточно для того, чтобы построить прямую\n",
    "\n",
    "x = [0, 2] # ординаты\n",
    "y = [1, 5] # абсциссы\n",
    "\n",
    "plt.plot(x, y)"
   ]
  },
  {
   "cell_type": "markdown",
   "metadata": {},
   "source": [
    "Заметим, что сама функция `plot` не рисует график, а просто инициализирует нужную информацию для этого. В среде Jupyter Notebook по умолчанию используется режим, при котором вывод графика на экран происходит автоматически при выполнении ячейки, но вообще говоря, за это отвечает отдельная функция `show`. Если вы при работе с Matplotlib столкнетесь с ситуацией, когда график не отображается, в первую очередь стоит попробовать вызвать эту функцию."
   ]
  },
  {
   "cell_type": "markdown",
   "metadata": {},
   "source": [
    "Давайте немного иначе настроим наш график, чтобы продемонстрировать некоторые возможности Matplotlib:"
   ]
  },
  {
   "cell_type": "code",
   "execution_count": 42,
   "metadata": {},
   "outputs": [
    {
     "data": {
      "image/png": "[encoded data removed]",
      "text/plain": [
       "<matplotlib.figure.Figure at 0x897f940>"
      ]
     },
     "metadata": {},
     "output_type": "display_data"
    }
   ],
   "source": [
    "x = np.array([0, 2])\n",
    "y = np.array([1, 5])\n",
    "\n",
    "# задаем дополнительно цвет линии и толщину\n",
    "plt.plot(x, y, color='red', linewidth=2.5)\n",
    "\n",
    "# установим границы осей X и Y так, чтобы график не\n",
    "# выглядел \"зажатым\" осями координат\n",
    "plt.xlim(x.min() - 0.5, x.max() + 0.5)\n",
    "plt.ylim(y.min() - 0.5, y.max() + 0.5)\n",
    "\n",
    "# определим, какие точки будут отмечены на осях\n",
    "x_ticks = np.linspace(x.min(), x.max(), 2)\n",
    "y_ticks = np.linspace(y.min(), y.max(), 2)\n",
    "plt.xticks(x_ticks)\n",
    "plt.yticks(y_ticks)\n",
    "\n",
    "# определим, как будут подписаны координатные оси\n",
    "plt.xlabel('abscissa')\n",
    "plt.ylabel('ordinate')\n",
    "\n",
    "# рисуем график\n",
    "plt.show()"
   ]
  },
  {
   "cell_type": "markdown",
   "metadata": {},
   "source": [
    "Можно в одной системе координат отобразить сразу несколько графиков. Давайте попробуем вывести графики синуса и косинуса."
   ]
  },
  {
   "cell_type": "code",
   "execution_count": 43,
   "metadata": {},
   "outputs": [
    {
     "data": {
      "image/png": "[encoded data removed]",
      "text/plain": [
       "<matplotlib.figure.Figure at 0x7e099e8>"
      ]
     },
     "metadata": {},
     "output_type": "display_data"
    }
   ],
   "source": [
    "x = np.linspace(-np.pi, np.pi, 200)\n",
    "cos_x = np.cos(x)\n",
    "sin_x = np.sin(x)\n",
    "\n",
    "# добавляем два графика, устанавливаем для них цвет, тип линии\n",
    "# и название\n",
    "plt.plot(x, cos_x, color='red', linestyle='dashed', label='cosine')\n",
    "plt.plot(x, sin_x, color='green', linestyle='dotted', label='sine')\n",
    "\n",
    "# добавляем легеду (информацию о том, какая линия что означает)\n",
    "plt.legend()\n",
    "\n",
    "# определяем, какие точки будут отмечены на осях\n",
    "# можно в качестве значения указывать LaTeX-формулу (используем\n",
    "# это для того, чтобы вместо, например, 3.1415.. было написано pi)\n",
    "x_ticks = np.array([-np.pi, -np.pi/2, 0, np.pi/2, np.pi])\n",
    "x_ticks_name = [r'$-\\pi$', r'$-\\pi/2$', r'$0$', r'$\\pi/2$', r'$\\pi$']\n",
    "y_ticks = np.array([-1, -0.5, 0, 0.5, 1])\n",
    "y_ticks_name = [r'$-1$', r'$-0.5$', r'$0$', r'$0.5$', r'$1$']\n",
    "\n",
    "plt.xticks(x_ticks, x_ticks_name)\n",
    "plt.yticks(y_ticks, y_ticks_name)\n",
    "\n",
    "# рисуем график\n",
    "plt.show()"
   ]
  },
  {
   "cell_type": "markdown",
   "metadata": {},
   "source": [
    "Теперь давайте попробуем настроить координатные оси таким образом, чтобы центр графика находился в точке $(0, 0)$, как мы привыкли со школы. Для этого нам потребуется метод `gca`, возвращающий объект, который можно использовать для управления внешним видом координатных осей. На рисунке сверху есть четыре оси, образующих прямоугольник, внутри которого находятся графики. Нам нужно скрыть две из них (например, ту, что сверху и ту, что справа), а оставшиеся две поместить в точку $(0, 0)$:"
   ]
  },
  {
   "cell_type": "code",
   "execution_count": 44,
   "metadata": {},
   "outputs": [
    {
     "data": {
      "image/png": "[encoded data removed]",
      "text/plain": [
       "<matplotlib.figure.Figure at 0x8e684a8>"
      ]
     },
     "metadata": {},
     "output_type": "display_data"
    }
   ],
   "source": [
    "x = np.linspace(-np.pi, np.pi, 200)\n",
    "cos_x = np.cos(x)\n",
    "sin_x = np.sin(x)\n",
    "\n",
    "# добавляем два графика, устанавливаем для них цвет, тип линии\n",
    "# и название\n",
    "plt.plot(x, cos_x, color='red', linestyle='dashed', label='cosine')\n",
    "plt.plot(x, sin_x, color='green', linestyle='dotted', label='sine')\n",
    "\n",
    "# добавляем легеду (информацию о том, какая линия что означает)\n",
    "plt.legend()\n",
    "\n",
    "# определяем, какие точки будут отмечены на осях\n",
    "# можно в качестве значения указывать LaTex-формулу (используем\n",
    "# это для того, чтобы вместо, например, 3.1415.. было написано pi)\n",
    "x_ticks = np.array([-np.pi, -np.pi/2, 0, np.pi/2, np.pi])\n",
    "x_ticks_name = [r'$-\\pi$', r'$-\\pi/2$', r'$0$', r'$\\pi/2$', r'$\\pi$']\n",
    "y_ticks = np.array([-1, -0.5, 0, 0.5, 1])\n",
    "y_ticks_name = [r'$-1$', r'$-0.5$', r'$0$', r'$0.5$', r'$1$']\n",
    "\n",
    "plt.xticks(x_ticks, x_ticks_name)\n",
    "plt.yticks(y_ticks, y_ticks_name)\n",
    "\n",
    "# меняем положение координатных осей\n",
    "axes = plt.gca()\n",
    "\n",
    "    # скрываем две оси\n",
    "axes.spines['top'].set_color(None)\n",
    "axes.spines['right'].set_color(None)\n",
    "\n",
    "    # устаналиваем позицию левой и правой оси;\n",
    "    # data' означает, что 0 - это координата, через которую должна проходить ось\n",
    "axes.spines['left'].set_position(('data', 0))\n",
    "axes.spines['bottom'].set_position(('data', 0))\n",
    "\n",
    "# рисуем график\n",
    "plt.show()"
   ]
  },
  {
   "cell_type": "markdown",
   "metadata": {},
   "source": [
    "### Диаграмма разброса"
   ]
  },
  {
   "cell_type": "markdown",
   "metadata": {},
   "source": [
    "Диаграмма разброса используется тогда, когда нужно оценить корреляцию между несколькими факторами. Для примера, в качестве одного фактора мы возьмем просто случайные, ничего не означающие данные. Второй фактор мы получим как сумму первого и некоторой случайной величины с достаточно большой дисперсией. Очевидно, что между этими двумя значениями мы должны увидеть положительную корреляцию - с ростом одного, увеличивается и второе. Проверим это на практике:"
   ]
  },
  {
   "cell_type": "code",
   "execution_count": 45,
   "metadata": {},
   "outputs": [
    {
     "data": {
      "image/png": "[encoded data removed]",
      "text/plain": [
       "<matplotlib.figure.Figure at 0x8e68860>"
      ]
     },
     "metadata": {},
     "output_type": "display_data"
    }
   ],
   "source": [
    "from random import uniform\n",
    "from random import normalvariate\n",
    "\n",
    "# используем генератор, чтобы создать массив случайных данных\n",
    "x = np.array([uniform(0, 100) for i in range(1000)])\n",
    "y = np.array([item + normalvariate(0, 20) for item in x])\n",
    "\n",
    "# строим диаграмму разброса\n",
    "plt.scatter(x, y)\n",
    "plt.show()"
   ]
  },
  {
   "cell_type": "markdown",
   "metadata": {},
   "source": [
    "Несмотря на то, что мы выбрали большое значение стандартного отклонения для случайной величины, с помощью которой мы оказывали влияние на первый фактор, положительная корреляция видна невооруженным глазом: с ростом $x$ возрастает $y$. Если стандартное отклонение продолжить увеличивать, то в определенный момент корреляция, очевидно, пропадет. Убедитесь в этом сами."
   ]
  },
  {
   "cell_type": "markdown",
   "metadata": {},
   "source": [
    "### Гистограмма"
   ]
  },
  {
   "cell_type": "markdown",
   "metadata": {},
   "source": [
    "Гистограммы часто используются для того, чтобы сделать предположение о том, какому распределению подчиняется случайная выборка: по выборке строится гистограмма, а затем сравнивается, плотность распределения какого закона она напоминает больше всего. В качестве примера, рассмотрим выборку из нормального закона распределения, но вообразим, что нам это неизвестно:"
   ]
  },
  {
   "cell_type": "code",
   "execution_count": 46,
   "metadata": {},
   "outputs": [
    {
     "data": {
      "image/png": "[encoded data removed]",
      "text/plain": [
       "<matplotlib.figure.Figure at 0x89ab240>"
      ]
     },
     "metadata": {},
     "output_type": "display_data"
    }
   ],
   "source": [
    "from math import sqrt\n",
    "from random import normalvariate\n",
    "\n",
    "def norm_density(x, mean, std):\n",
    "    tmp1 = 1 / (std * np.sqrt(2 * np.pi))\n",
    "    tmp2 = -((x - mean)**2 / 2 * std**2)\n",
    "    return tmp1 * (np.e ** tmp2)\n",
    "\n",
    "\n",
    "x = np.array([normalvariate(3, 1) for i in range(10000)])\n",
    "\n",
    "# добавляем гистограмму на график (bins - количество столбиков в ней)\n",
    "plt.hist(x, bins=15, density=True)\n",
    "\n",
    "# добавим еще для наглядности график плотности распределения\n",
    "x_mean = np.mean(x)\n",
    "x_std = np.std(x) # стандартное отклонение\n",
    "density_x = np.linspace(x.min(), x.max(), 200)\n",
    "density_y = np.array([norm_density(item, x_mean, x_std) for item in density_x])\n",
    "plt.plot(density_x, density_y, linewidth=2.5, color='red')\n",
    "\n",
    "# рисуем графики\n",
    "plt.show()"
   ]
  },
  {
   "cell_type": "markdown",
   "metadata": {},
   "source": [
    "Как видите, гистограмма, построенная по выборке из \"неизвестной\" случайной величины, по форме похожа на плотность нормального распределения. Исходя из этого можно сделать вывод, что \"неизвестная\" случайная величина имеет закон распределения, близкий к нормальному."
   ]
  },
  {
   "cell_type": "markdown",
   "metadata": {},
   "source": [
    "В заключение дадим очень полезную [ссылку](https://matplotlib.org/tutorials/index.html) на раздел документации библиотеки Matplotlib, по которой можно найти большое количество примеров графиков вместе с исходным кодом, строящим их. Примеры оттуда позволяют увидеть весь спектр возможностей Matplotlib."
   ]
  },
  {
   "cell_type": "markdown",
   "metadata": {},
   "source": [
    "## pandas"
   ]
  },
  {
   "cell_type": "markdown",
   "metadata": {},
   "source": [
    "Библиотека [pandas](https://pandas.pydata.org/pandas-docs/stable/index.html) предоставляет классы для быстрой обработки и анализа больших объемов данных. В своей реализации она использует библиотеку NumPy, с которой мы познакомились чуть выше. Двумя важнейшими классами библиотеки pandas являются `Series` и `DataFrame`. Оба они представляют собой массивы, элементам которых назначены специальные **метки** (англ. *label*), в совокупности образующие **индекс** этого массива. Термин \"индекс\" из pandas пересекается с тем, что мы использовали для обозначения позиции элемента в последовательности. Обычно путаницы из-за этого не возникает, но вам стоит иметь это в виду."
   ]
  },
  {
   "cell_type": "markdown",
   "metadata": {},
   "source": [
    "Все элеметы массивов pandas приводятся к одному и тому же типу данных (используются типы из библиотеки NumPy)."
   ]
  },
  {
   "cell_type": "markdown",
   "metadata": {},
   "source": [
    "Перед тем как начать использование библиотеки pandas, подключим необходимый модуль:"
   ]
  },
  {
   "cell_type": "code",
   "execution_count": 47,
   "metadata": {},
   "outputs": [],
   "source": [
    "import numpy as np\n",
    "import pandas as pd"
   ]
  },
  {
   "cell_type": "markdown",
   "metadata": {},
   "source": [
    "### Класс Series"
   ]
  },
  {
   "cell_type": "markdown",
   "metadata": {},
   "source": [
    "`Series` представляет собой изменяемый одномерный массив, к каждому элементу которого прикреплена произвольная метка. Объект класса `Series` можно создать несколькими способами:"
   ]
  },
  {
   "cell_type": "code",
   "execution_count": 48,
   "metadata": {},
   "outputs": [
    {
     "name": "stdout",
     "output_type": "stream",
     "text": [
      "0    1\n",
      "1    2\n",
      "2    3\n",
      "3    4\n",
      "4    5\n",
      "dtype: int64\n"
     ]
    }
   ],
   "source": [
    "# из обычного списка\n",
    "s = pd.Series([1, 2, 3, 4, 5])\n",
    "print(s)"
   ]
  },
  {
   "cell_type": "code",
   "execution_count": 49,
   "metadata": {},
   "outputs": [
    {
     "name": "stdout",
     "output_type": "stream",
     "text": [
      "0    0.825980\n",
      "1    0.605343\n",
      "2    0.690893\n",
      "dtype: float64\n"
     ]
    }
   ],
   "source": [
    "# из ndarray\n",
    "s = pd.Series(np.random.random((3)))\n",
    "print(s)"
   ]
  },
  {
   "cell_type": "markdown",
   "metadata": {},
   "source": [
    "Обратите внимание на первый столбец в выведенных на экран объектах `Series` - это и есть их индекс. Обратиться к нему можно с помощью атрибута `index`:"
   ]
  },
  {
   "cell_type": "code",
   "execution_count": 50,
   "metadata": {},
   "outputs": [
    {
     "name": "stdout",
     "output_type": "stream",
     "text": [
      "RangeIndex(start=0, stop=3, step=1)\n"
     ]
    }
   ],
   "source": [
    "print(s.index)"
   ]
  },
  {
   "cell_type": "markdown",
   "metadata": {},
   "source": [
    "По умолчанию индекс представляет собой последовательно возрастающие от нуля числа, но это легко можно изменить, явно указав метки:"
   ]
  },
  {
   "cell_type": "code",
   "execution_count": 51,
   "metadata": {},
   "outputs": [
    {
     "name": "stdout",
     "output_type": "stream",
     "text": [
      "Index(['first', 'second', 'third'], dtype='object')\n",
      "first     1\n",
      "second    2\n",
      "third     3\n",
      "dtype: int64\n"
     ]
    }
   ],
   "source": [
    "s = pd.Series([1, 2, 3], index=['first', 'second', 'third'])\n",
    "print(s.index)\n",
    "print(s)"
   ]
  },
  {
   "cell_type": "markdown",
   "metadata": {},
   "source": [
    "Одномерный массив можно создать с помощью словаря Python, при этом ключи становятся метками, а значения - элементами:"
   ]
  },
  {
   "cell_type": "code",
   "execution_count": 52,
   "metadata": {},
   "outputs": [
    {
     "name": "stdout",
     "output_type": "stream",
     "text": [
      "a    100\n",
      "b    200\n",
      "c    300\n",
      "dtype: int64\n"
     ]
    }
   ],
   "source": [
    "s = pd.Series({'a':100, 'b':200, 'c':300})\n",
    "print(s)"
   ]
  },
  {
   "cell_type": "markdown",
   "metadata": {},
   "source": [
    "Объекты класса `Series` могут использовать как `ndarray` или как `dict`:"
   ]
  },
  {
   "cell_type": "code",
   "execution_count": 53,
   "metadata": {},
   "outputs": [
    {
     "name": "stdout",
     "output_type": "stream",
     "text": [
      "2\n",
      "5\n",
      "True\n"
     ]
    }
   ],
   "source": [
    "s = pd.Series([1, 2, 3, 4, 5], index=['a', 'b', 'c', 'd', 'e'])\n",
    "\n",
    "# получаем элемент по его позиции, как для ndarray\n",
    "print(s[1])\n",
    "\n",
    "# обращаемся к элементу по метке, как для dict\n",
    "print(s['e'])\n",
    "\n",
    "# определяем, есть ли метка в объекте Series\n",
    "print('c' in s)"
   ]
  },
  {
   "cell_type": "code",
   "execution_count": 54,
   "metadata": {},
   "outputs": [
    {
     "name": "stdout",
     "output_type": "stream",
     "text": [
      "d    4\n",
      "c    3\n",
      "dtype: int64\n"
     ]
    }
   ],
   "source": [
    "# получаем срез, как для ndarray;\n",
    "# срез объекта Series тоже имеет тип Series\n",
    "print(s[3:1:-1])"
   ]
  },
  {
   "cell_type": "markdown",
   "metadata": {},
   "source": [
    "Бинарные операции для одномерных массивов pandas работают так же, как и для массивов NumPy (применяются для каждого элемента). Универсальные функции NumPy могут в качестве аргумента принимать объекты `Series`:"
   ]
  },
  {
   "cell_type": "code",
   "execution_count": 55,
   "metadata": {},
   "outputs": [
    {
     "name": "stdout",
     "output_type": "stream",
     "text": [
      "a    1\n",
      "b    2\n",
      "c    3\n",
      "dtype: int64 \n",
      "\n",
      "a    0.1\n",
      "b    0.2\n",
      "c    0.3\n",
      "dtype: float64\n"
     ]
    }
   ],
   "source": [
    "s1 = pd.Series([1, 2, 3], index=['a', 'b', 'c'])\n",
    "s2 = pd.Series([0.1, 0.2, 0.3], index=['a', 'b', 'c'])\n",
    "print(s1, '\\n')\n",
    "print(s2)"
   ]
  },
  {
   "cell_type": "code",
   "execution_count": 56,
   "metadata": {},
   "outputs": [
    {
     "name": "stdout",
     "output_type": "stream",
     "text": [
      "a    3\n",
      "b    6\n",
      "c    9\n",
      "dtype: int64 \n",
      "\n",
      "a    1.1\n",
      "b    2.2\n",
      "c    3.3\n",
      "dtype: float64 \n",
      "\n",
      "a     2.718282\n",
      "b     7.389056\n",
      "c    20.085537\n",
      "dtype: float64\n"
     ]
    }
   ],
   "source": [
    "print(s1 * 3, '\\n')\n",
    "print(s1 + s2, '\\n')\n",
    "print(np.exp(s1))"
   ]
  },
  {
   "cell_type": "markdown",
   "metadata": {},
   "source": [
    "Особо стоит отметить случай, когда бинарная операция выполняется для массивов `Series`, имеющих разные метки. В этом случае происходит следующее: если метка есть в обоих массивах, то операция выполняется и ее результат становится значением элемента в новом объекте, иначе - в новый объект записывается специальная константа `Nan`, которая трактуется как отсутствие значения."
   ]
  },
  {
   "cell_type": "code",
   "execution_count": 57,
   "metadata": {},
   "outputs": [
    {
     "name": "stdout",
     "output_type": "stream",
     "text": [
      "x    0.1\n",
      "a    0.2\n",
      "c    0.3\n",
      "dtype: float64\n"
     ]
    }
   ],
   "source": [
    "s2.index = ['x', 'a', 'c'] # меняем индекс у объекта s2\n",
    "print(s2)"
   ]
  },
  {
   "cell_type": "code",
   "execution_count": 58,
   "metadata": {},
   "outputs": [
    {
     "name": "stdout",
     "output_type": "stream",
     "text": [
      "a    0.8\n",
      "b    NaN\n",
      "c    2.7\n",
      "x    NaN\n",
      "dtype: float64\n"
     ]
    }
   ],
   "source": [
    "result = s1 - s2\n",
    "print(result)"
   ]
  },
  {
   "cell_type": "markdown",
   "metadata": {},
   "source": [
    "Любые бинарные арифметические операции со значениями `Nan` будут давать `Nan`:"
   ]
  },
  {
   "cell_type": "code",
   "execution_count": 59,
   "metadata": {},
   "outputs": [
    {
     "name": "stdout",
     "output_type": "stream",
     "text": [
      "a    1.8\n",
      "b    NaN\n",
      "c    3.7\n",
      "x    NaN\n",
      "dtype: float64\n"
     ]
    }
   ],
   "source": [
    "print(result + 1)"
   ]
  },
  {
   "cell_type": "markdown",
   "metadata": {},
   "source": [
    "Объекты типа `Series` поддерживают обращение сразу к нескольким элементам:"
   ]
  },
  {
   "cell_type": "code",
   "execution_count": 60,
   "metadata": {},
   "outputs": [
    {
     "name": "stdout",
     "output_type": "stream",
     "text": [
      "a    1\n",
      "d    4\n",
      "e    5\n",
      "dtype: int64 \n",
      "\n",
      "a    1\n",
      "b    2\n",
      "c    0\n",
      "d    0\n",
      "e    5\n",
      "dtype: int64\n"
     ]
    }
   ],
   "source": [
    "s = pd.Series([1, 2, 3, 4, 5], index=['a', 'b', 'c', 'd', 'e'])\n",
    "print(s[['a', 'd', 'e']], '\\n')\n",
    "\n",
    "# изменяем сразу несколько элементов\n",
    "s[['c', 'd']] = 0\n",
    "print(s)"
   ]
  },
  {
   "cell_type": "markdown",
   "metadata": {},
   "source": [
    "Объекты типа `Series` можно сравнивать между собой и со скалярами. Сравнения, как и другие бинарные операции, выполняются для каждого элемента отдельно. Результатом становится новый объект, у которого в i-ой позиции стоит `True`, если сравнение соответствующего элемента дало истину:"
   ]
  },
  {
   "cell_type": "code",
   "execution_count": 61,
   "metadata": {},
   "outputs": [
    {
     "name": "stdout",
     "output_type": "stream",
     "text": [
      "0     True\n",
      "1    False\n",
      "2     True\n",
      "dtype: bool \n",
      "\n",
      "0    False\n",
      "1    False\n",
      "2     True\n",
      "dtype: bool\n"
     ]
    }
   ],
   "source": [
    "s1 = pd.Series([10, 5, 7])\n",
    "s2 = pd.Series([1, 12, 3])\n",
    "\n",
    "print(s1 > s2, '\\n')\n",
    "print(s2 == 3)"
   ]
  },
  {
   "cell_type": "markdown",
   "metadata": {},
   "source": [
    "С помощью массива, состоящего из булевых элементов, можно отфильтровать элементы другого массива той же размерности. При этом в результирующий объект `Series` попадают только элементы, для которых в соответствующей позиции фильтрующего массива находится `True`:"
   ]
  },
  {
   "cell_type": "code",
   "execution_count": 62,
   "metadata": {},
   "outputs": [
    {
     "name": "stdout",
     "output_type": "stream",
     "text": [
      "0    10\n",
      "2     7\n",
      "dtype: int64\n"
     ]
    }
   ],
   "source": [
    "print(s1[s1 > s2])"
   ]
  },
  {
   "cell_type": "markdown",
   "metadata": {},
   "source": [
    "В заключение скажем, что объекты класса `Series` являются итерируемыми, т.е. могут использоваться в цикле `for ... in`:"
   ]
  },
  {
   "cell_type": "code",
   "execution_count": 63,
   "metadata": {},
   "outputs": [
    {
     "name": "stdout",
     "output_type": "stream",
     "text": [
      "0.1\n",
      "0.2\n",
      "0.3\n"
     ]
    }
   ],
   "source": [
    "s = pd.Series({'aaa':0.1, 'bbb':0.2, 'ccc':0.3})\n",
    "\n",
    "for item in s:\n",
    "    print(item)"
   ]
  },
  {
   "cell_type": "code",
   "execution_count": 64,
   "metadata": {},
   "outputs": [
    {
     "name": "stdout",
     "output_type": "stream",
     "text": [
      "aaa\n",
      "bbb\n",
      "ccc\n"
     ]
    }
   ],
   "source": [
    "# так выполняется итерация по меткам:\n",
    "for item in s.index:\n",
    "    print(item)"
   ]
  },
  {
   "cell_type": "markdown",
   "metadata": {},
   "source": [
    "### Класс DataFrame"
   ]
  },
  {
   "cell_type": "markdown",
   "metadata": {},
   "source": [
    "Класс `DataFrame` представляет двумерный изменяемый массив (матрицу), столбцами которого являются одномерные массивы `Series`. С помощью атрибутов `index` и `columns` задаются метки для строк и столбцов. Как и для типа `Series`, объекты `DataFrame` можно создавать несколькими способами:"
   ]
  },
  {
   "cell_type": "code",
   "execution_count": 65,
   "metadata": {},
   "outputs": [
    {
     "name": "stdout",
     "output_type": "stream",
     "text": [
      "      col1  col2\n",
      "row1   1.0   0.1\n",
      "row2   2.0   0.2\n",
      "row3   3.0   NaN\n",
      "row5   NaN   0.3\n",
      "row6   NaN   0.4\n",
      "Index(['row1', 'row2', 'row3', 'row5', 'row6'], dtype='object')\n",
      "Index(['col1', 'col2'], dtype='object')\n"
     ]
    }
   ],
   "source": [
    "# из словаря Series (ключи словаря становятся метками столбцов,\n",
    "# индексы Series объединяются и образуют индекс для строк)\n",
    "df = pd.DataFrame({'col1': pd.Series([1, 2, 3], ['row1', 'row2', 'row3']),\n",
    "                   'col2': pd.Series([0.1, 0.2, 0.3, 0.4], ['row1', 'row2', 'row5', 'row6'])})\n",
    "print(df)\n",
    "print(df.index)\n",
    "print(df.columns)"
   ]
  },
  {
   "cell_type": "code",
   "execution_count": 66,
   "metadata": {},
   "outputs": [
    {
     "name": "stdout",
     "output_type": "stream",
     "text": [
      "    c1  c2\n",
      "r1   1   4\n",
      "r2   2   5\n",
      "r3   3   6\n"
     ]
    }
   ],
   "source": [
    "# из словаря ndarray/list (ключи словаря становятся метками\n",
    "# столбцов, для строк используется индекс по умолчанию)\n",
    "df = pd.DataFrame({'c1': [1, 2, 3], 'c2':[4, 5, 6]})\n",
    "df.index = ['r1', 'r2', 'r3']\n",
    "print(df)"
   ]
  },
  {
   "cell_type": "markdown",
   "metadata": {},
   "source": [
    "Семантически объект `DataFrame` может рассматриваться как [словарь](09_Collections.ipynb#Словарь), ключом в котором являются метки столбцов, а значением - соответствующие объекты `Series`. Операции, которые мы рассматривали для словаря, схожим образом выполняются и для объектов `DataFrame`: "
   ]
  },
  {
   "cell_type": "code",
   "execution_count": 67,
   "metadata": {},
   "outputs": [
    {
     "name": "stdout",
     "output_type": "stream",
     "text": [
      "          c1        c2        c3\n",
      "r1  0.308978  0.940771  0.988228\n",
      "r2  0.778484  0.472404       NaN\n",
      "r3  0.570186  0.831688  0.568123\n",
      "r4       NaN  0.513793  0.575264\n"
     ]
    }
   ],
   "source": [
    "df = pd.DataFrame({'c1': pd.Series(np.random.random(3), ['r1', 'r2', 'r3']),\n",
    "                   'c2': pd.Series(np.random.random(4), ['r1', 'r2', 'r3', 'r4']),\n",
    "                   'c3': pd.Series(np.random.random(3), ['r1', 'r3', 'r4'])})\n",
    "print(df)"
   ]
  },
  {
   "cell_type": "code",
   "execution_count": 68,
   "metadata": {},
   "outputs": [
    {
     "name": "stdout",
     "output_type": "stream",
     "text": [
      "0.30897794183961025 \n",
      "\n",
      "r1    0.988228\n",
      "r2         NaN\n",
      "Name: c3, dtype: float64 \n",
      "\n",
      "r1    0.940771\n",
      "r2    0.472404\n",
      "r3    0.831688\n",
      "r4    0.513793\n",
      "Name: c2, dtype: float64\n"
     ]
    }
   ],
   "source": [
    "# получение конкретного элемента\n",
    "print(df['c1']['r1'], '\\n')\n",
    "\n",
    "# получение нескольких элементов столбца\n",
    "print(df['c3'][['r1', 'r2']], '\\n')\n",
    "\n",
    "# получение столбца целиком\n",
    "print(df['c2'])"
   ]
  },
  {
   "cell_type": "markdown",
   "metadata": {},
   "source": [
    "Очень удобной является возможность обращаться к столбцам и строкам как к атрибутам. Например, вот так мы можем переписать предыдущий блок кода:"
   ]
  },
  {
   "cell_type": "code",
   "execution_count": 69,
   "metadata": {},
   "outputs": [
    {
     "name": "stdout",
     "output_type": "stream",
     "text": [
      "0.30897794183961025 \n",
      "\n",
      "r1    0.988228\n",
      "r2         NaN\n",
      "Name: c3, dtype: float64 \n",
      "\n",
      "r1    0.940771\n",
      "r2    0.472404\n",
      "r3    0.831688\n",
      "r4    0.513793\n",
      "Name: c2, dtype: float64\n"
     ]
    }
   ],
   "source": [
    "print(df.c1.r1, '\\n')\n",
    "print(df.c3[['r1', 'r2']], '\\n')\n",
    "print(df.c2)"
   ]
  },
  {
   "cell_type": "code",
   "execution_count": 70,
   "metadata": {},
   "outputs": [
    {
     "name": "stdout",
     "output_type": "stream",
     "text": [
      "          c1        c2        c3        c4\n",
      "r1  0.308978  0.940771  0.988228       NaN\n",
      "r2  0.778484  0.472404       NaN  0.461306\n",
      "r3  0.570186  0.831688  0.568123       NaN\n",
      "r4       NaN  0.513793  0.575264  0.369241 \n",
      "\n",
      "          c1        c2        c3\n",
      "r1  0.308978  0.940771  0.988228\n",
      "r2  0.778484  0.472404       NaN\n",
      "r3  0.570186  0.831688  0.568123\n",
      "r4       NaN  0.513793  0.575264\n"
     ]
    }
   ],
   "source": [
    "# добавление и удаление столбца\n",
    "df['c4'] = pd.Series(np.random.random(2), index=['r2', 'r4'])\n",
    "print(df, '\\n')\n",
    "\n",
    "del df['c4']\n",
    "print(df)"
   ]
  },
  {
   "cell_type": "markdown",
   "metadata": {},
   "source": [
    "Существуют также удобные способы для обращения к строкам. В результате возвращаются объекты `Series`, индекс которых состоит из меток столобцов объекта `DataFrame`."
   ]
  },
  {
   "cell_type": "code",
   "execution_count": 71,
   "metadata": {},
   "outputs": [
    {
     "name": "stdout",
     "output_type": "stream",
     "text": [
      "c1    0.778484\n",
      "c2    0.472404\n",
      "c3         NaN\n",
      "Name: r2, dtype: float64 \n",
      "\n",
      "c1    0.778484\n",
      "c2    0.472404\n",
      "c3         NaN\n",
      "Name: r2, dtype: float64\n"
     ]
    }
   ],
   "source": [
    "# получаем строку по метке и по позиции\n",
    "print(df.loc['r2'], '\\n')\n",
    "print(df.iloc[1])"
   ]
  },
  {
   "cell_type": "code",
   "execution_count": 72,
   "metadata": {},
   "outputs": [
    {
     "name": "stdout",
     "output_type": "stream",
     "text": [
      "          c1        c2        c3\n",
      "r1  0.308978  0.940771  0.988228\n",
      "r3  0.570186  0.831688  0.568123 \n",
      "\n",
      "          c1        c2\n",
      "r2  0.778484  0.472404\n",
      "r3  0.570186  0.831688\n"
     ]
    }
   ],
   "source": [
    "# получаем сразу несколько строк\n",
    "print(df.loc[['r1', 'r3']], '\\n')\n",
    "\n",
    "# получаем несколько строк и несколько столбцов\n",
    "print(df.loc[['r2', 'r3'], ['c1', 'c2']])"
   ]
  },
  {
   "cell_type": "markdown",
   "metadata": {},
   "source": [
    "Наконец, можно получить целый набор строк объекта `DataFrame` одним из следующих способов (в результате получается новый объект `DataFrame`, как и следовало ожидать):"
   ]
  },
  {
   "cell_type": "code",
   "execution_count": 73,
   "metadata": {},
   "outputs": [
    {
     "name": "stdout",
     "output_type": "stream",
     "text": [
      "<class 'pandas.core.frame.DataFrame'>\n",
      "          c1        c2        c3\n",
      "r4       NaN  0.513793  0.575264\n",
      "r3  0.570186  0.831688  0.568123\n"
     ]
    }
   ],
   "source": [
    "# используем операцию взятия среза\n",
    "df2 = df[3:1:-1]\n",
    "print(type(df2))\n",
    "print(df2)"
   ]
  },
  {
   "cell_type": "code",
   "execution_count": 74,
   "metadata": {},
   "outputs": [
    {
     "name": "stdout",
     "output_type": "stream",
     "text": [
      "          c1        c2        c3\n",
      "r1  0.308978  0.940771  0.988228\n",
      "r2  0.778484  0.472404       NaN\n"
     ]
    }
   ],
   "source": [
    "# используем специфическую для массивов pandas операцию\n",
    "print(df.loc[['r1', 'r2']])"
   ]
  },
  {
   "cell_type": "markdown",
   "metadata": {},
   "source": [
    "С таблицами, можно выполнять арифметические операции, которые реализованы по тому же принципу, что и для объектов `Series`:"
   ]
  },
  {
   "cell_type": "code",
   "execution_count": 75,
   "metadata": {},
   "outputs": [
    {
     "name": "stdout",
     "output_type": "stream",
     "text": [
      "    c1  c2\n",
      "r1   0   3\n",
      "r2   1   4\n",
      "r3   2   5 \n",
      "\n",
      "     c1   c2   c3\n",
      "r1  0.0  0.3  0.6\n",
      "r2  0.1  0.4  0.7\n",
      "r3  0.2  NaN  NaN\n",
      "r4  NaN  0.5  0.8 \n",
      "\n",
      "c1    1.0\n",
      "c2    1.0\n",
      "c3    1.0\n",
      "dtype: float64\n"
     ]
    }
   ],
   "source": [
    "df1 = pd.DataFrame({'c1': pd.Series([0, 1, 2], ['r1', 'r2', 'r3']),\n",
    "                    'c2': pd.Series([3, 4, 5], ['r1', 'r2', 'r3'])})\n",
    "df2 = pd.DataFrame({'c1': pd.Series([0.0, 0.1, 0.2], ['r1', 'r2', 'r3']),\n",
    "                    'c2': pd.Series([0.3, 0.4, 0.5], ['r1', 'r2', 'r4']),\n",
    "                    'c3': pd.Series([0.6, 0.7, 0.8], ['r1', 'r2', 'r4'])})\n",
    "s = pd.Series(np.ones((3)), index=['c1', 'c2', 'c3'])\n",
    "\n",
    "print(df1, '\\n')\n",
    "print(df2, '\\n')\n",
    "print(s)"
   ]
  },
  {
   "cell_type": "code",
   "execution_count": 76,
   "metadata": {},
   "outputs": [
    {
     "name": "stdout",
     "output_type": "stream",
     "text": [
      "    c1  c2\n",
      "r1   1   4\n",
      "r2   2   5\n",
      "r3   3   6\n"
     ]
    }
   ],
   "source": [
    "# арифметическая операция со скаляром\n",
    "print(df1 + 1)"
   ]
  },
  {
   "cell_type": "code",
   "execution_count": 77,
   "metadata": {},
   "outputs": [
    {
     "name": "stdout",
     "output_type": "stream",
     "text": [
      "     c1   c2  c3\n",
      "r1  0.0  0.9 NaN\n",
      "r2  0.1  1.6 NaN\n",
      "r3  0.4  NaN NaN\n",
      "r4  NaN  NaN NaN\n"
     ]
    }
   ],
   "source": [
    "# арифметическая операция с двумя матрицами (результат состоит\n",
    "# из объединения строк и столбцов операндов, значение Nan вставляется\n",
    "# в позиции, где отсутствует элемент в одном из операндов)\n",
    "print(df1 * df2)"
   ]
  },
  {
   "cell_type": "code",
   "execution_count": 78,
   "metadata": {},
   "outputs": [
    {
     "name": "stdout",
     "output_type": "stream",
     "text": [
      "     c1   c2   c3\n",
      "r1 -1.0 -0.7 -0.4\n",
      "r2 -0.9 -0.6 -0.3\n",
      "r3 -0.8  NaN  NaN\n",
      "r4  NaN -0.5 -0.2\n"
     ]
    }
   ],
   "source": [
    "# арифметическая операция с объектом Series (выполняется по строкам,\n",
    "# т.е. в индексе объекта Series должны быть указаны метки столбцов,\n",
    "# для которых нужно применить операцию)\n",
    "print(df2 - s)"
   ]
  },
  {
   "cell_type": "markdown",
   "metadata": {},
   "source": [
    "Покажем, как можно создать новый объект `DataFrame`, применив фильтрацию к элементам существующего:"
   ]
  },
  {
   "cell_type": "code",
   "execution_count": 79,
   "metadata": {},
   "outputs": [
    {
     "name": "stdout",
     "output_type": "stream",
     "text": [
      "     c1   c2   c3\n",
      "r2  0.1  0.4  0.7\n",
      "r4  NaN  0.5  0.8\n"
     ]
    }
   ],
   "source": [
    "result = df2[df2.c2 > 0.3]\n",
    "print(result)"
   ]
  },
  {
   "cell_type": "markdown",
   "metadata": {},
   "source": [
    "В заключение скажем, что объекты `DataFrame` являются итерируемыми, и их можно использовать в циклах `for ... in`. При этом стоит отметить, что итерация по массивам pandas выполняется **медленно**, и лучше ее избегать (например, подобрав нужную функцию, которая сделает все сама)."
   ]
  },
  {
   "cell_type": "markdown",
   "metadata": {},
   "source": [
    "### Статистика"
   ]
  },
  {
   "cell_type": "markdown",
   "metadata": {},
   "source": [
    "В pandas существует большое количество функций и методов, предназначенных для получения различных статистических данных об одномерных и двумерных массивах. В этом разделе мы рассмотрим некоторые из них."
   ]
  },
  {
   "cell_type": "code",
   "execution_count": 80,
   "metadata": {},
   "outputs": [
    {
     "name": "stdout",
     "output_type": "stream",
     "text": [
      "0    0.802763\n",
      "1    0.881109\n",
      "2    0.604589\n",
      "3    0.606030\n",
      "4    0.453705\n",
      "dtype: float64 \n",
      "\n",
      "          c1        c2\n",
      "r1  0.679956  0.461280\n",
      "r2  0.697153  0.006743\n",
      "r3  0.152008  0.663765\n"
     ]
    }
   ],
   "source": [
    "s = pd.Series(np.random.random(5))\n",
    "df = pd.DataFrame({'c1': pd.Series(np.random.random(3), index=['r1', 'r2', 'r3']),\n",
    "                   'c2': pd.Series(np.random.random(3), index=['r1', 'r2', 'r3'])})\n",
    "\n",
    "print(s, '\\n')\n",
    "print(df)"
   ]
  },
  {
   "cell_type": "code",
   "execution_count": 81,
   "metadata": {},
   "outputs": [
    {
     "name": "stdout",
     "output_type": "stream",
     "text": [
      "sum=3.3481964332404925, prod=0.11758321064167483\n",
      "mean=0.6696392866480985, var=0.02933662862069077, std=0.1712793876118512\n"
     ]
    }
   ],
   "source": [
    "# статистика для Series\n",
    "print('sum={}, prod={}'.format(\\\n",
    "       s.sum(), s.prod()))\n",
    "print('mean={}, var={}, std={}'.format(\\\n",
    "       s.mean(), s.var(), s.std()))"
   ]
  },
  {
   "cell_type": "code",
   "execution_count": 82,
   "metadata": {},
   "outputs": [
    {
     "name": "stdout",
     "output_type": "stream",
     "text": [
      "c1    1.529117\n",
      "c2    1.131789\n",
      "dtype: float64 \n",
      "\n",
      "r1    1.141236\n",
      "r2    0.703896\n",
      "r3    0.815773\n",
      "dtype: float64\n"
     ]
    }
   ],
   "source": [
    "# статистика для DataFrame (методы все те же)\n",
    "    \n",
    "    # сумма элементов по столбцам\n",
    "print(df.sum(), '\\n')\n",
    "\n",
    "    # сумма элементов по строкам\n",
    "print(df.sum(1))"
   ]
  },
  {
   "cell_type": "code",
   "execution_count": 83,
   "metadata": {},
   "outputs": [
    {
     "name": "stdout",
     "output_type": "stream",
     "text": [
      "             c1        c2\n",
      "count  3.000000  3.000000\n",
      "mean   0.509706  0.377263\n",
      "std    0.309894  0.336472\n",
      "min    0.152008  0.006743\n",
      "25%    0.415982  0.234012\n",
      "50%    0.679956  0.461280\n",
      "75%    0.688554  0.562523\n",
      "max    0.697153  0.663765\n"
     ]
    }
   ],
   "source": [
    "# основная статистика для DataFrame (для Series тот же метод)\n",
    "print(df.describe())"
   ]
  },
  {
   "cell_type": "markdown",
   "metadata": {},
   "source": [
    "На этом мы заканчиваем рассмотрение библиотеки pandas. Конечно, это лишь малая часть ее возможностей, однако, имея представление о работе с главными типами данных `Series` и `DataFrame`, можно легко продолжать самостоятельное изучение."
   ]
  },
  {
   "cell_type": "markdown",
   "metadata": {},
   "source": [
    "\n",
    "- - -\n",
    "[Предыдущая: Стандартная библиотека](10_Standard_Library.ipynb) |\n",
    "[Содержание](00_Overview.ipynb#Содержание)"
   ]
  }
 ],
 "metadata": {
  "kernelspec": {
   "display_name": "Python 3",
   "language": "python",
   "name": "python3"
  },
  "language_info": {
   "codemirror_mode": {
    "name": "ipython",
    "version": 3
   },
   "file_extension": ".py",
   "mimetype": "text/x-python",
   "name": "python",
   "nbconvert_exporter": "python",
   "pygments_lexer": "ipython3",
   "version": "3.6.4"
  }
 },
 "nbformat": 4,
 "nbformat_minor": 2
}
